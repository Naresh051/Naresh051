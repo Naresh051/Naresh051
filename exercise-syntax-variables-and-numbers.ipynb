{
 "cells": [
  {
   "cell_type": "markdown",
   "id": "78161e04",
   "metadata": {
    "papermill": {
     "duration": 0.032372,
     "end_time": "2022-03-13T03:05:13.048657",
     "exception": false,
     "start_time": "2022-03-13T03:05:13.016285",
     "status": "completed"
    },
    "tags": []
   },
   "source": [
    "**This notebook is an exercise in the [Python](https://www.kaggle.com/learn/python) course.  You can reference the tutorial at [this link](https://www.kaggle.com/colinmorris/hello-python).**\n",
    "\n",
    "---\n"
   ]
  },
  {
   "cell_type": "markdown",
   "id": "811e3c5d",
   "metadata": {
    "papermill": {
     "duration": 0.025935,
     "end_time": "2022-03-13T03:05:13.102312",
     "exception": false,
     "start_time": "2022-03-13T03:05:13.076377",
     "status": "completed"
    },
    "tags": []
   },
   "source": [
    "Welcome to your first set of Python coding problems.  If this is your first time using Kaggle Notebooks, welcome! \n",
    "\n",
    "Notebooks are composed of blocks (called \"cells\") of text and code. Each of these is editable, though you'll mainly be editing the code cells to answer some questions.\n",
    "\n",
    "To get started, try running the code cell below (by pressing the ► button, or clicking on the cell and pressing ctrl+enter on your keyboard)."
   ]
  },
  {
   "cell_type": "code",
   "execution_count": null,
   "id": "d95236a6",
   "metadata": {
    "jupyter": {
     "source_hidden": true
    },
    "papermill": {
     "duration": 0.025546,
     "end_time": "2022-03-13T03:05:13.154046",
     "exception": false,
     "start_time": "2022-03-13T03:05:13.128500",
     "status": "completed"
    },
    "tags": []
   },
   "outputs": [],
   "source": []
  },
  {
   "cell_type": "code",
   "execution_count": 1,
   "id": "38374b2c",
   "metadata": {
    "execution": {
     "iopub.execute_input": "2022-03-13T03:05:13.209800Z",
     "iopub.status.busy": "2022-03-13T03:05:13.208669Z",
     "iopub.status.idle": "2022-03-13T03:05:13.218913Z",
     "shell.execute_reply": "2022-03-13T03:05:13.218242Z",
     "shell.execute_reply.started": "2022-03-13T02:06:25.979689Z"
    },
    "papermill": {
     "duration": 0.039175,
     "end_time": "2022-03-13T03:05:13.219090",
     "exception": false,
     "start_time": "2022-03-13T03:05:13.179915",
     "status": "completed"
    },
    "tags": []
   },
   "outputs": [
    {
     "name": "stdout",
     "output_type": "stream",
     "text": [
      "You've successfully run some Python code\n",
      "Congratulations!\n"
     ]
    }
   ],
   "source": [
    "print(\"You've successfully run some Python code\")\n",
    "print(\"Congratulations!\")"
   ]
  },
  {
   "cell_type": "code",
   "execution_count": null,
   "id": "5666bc2f",
   "metadata": {
    "papermill": {
     "duration": 0.02613,
     "end_time": "2022-03-13T03:05:13.272741",
     "exception": false,
     "start_time": "2022-03-13T03:05:13.246611",
     "status": "completed"
    },
    "tags": []
   },
   "outputs": [],
   "source": []
  },
  {
   "cell_type": "markdown",
   "id": "8a6b7112",
   "metadata": {
    "papermill": {
     "duration": 0.025869,
     "end_time": "2022-03-13T03:05:13.324819",
     "exception": false,
     "start_time": "2022-03-13T03:05:13.298950",
     "status": "completed"
    },
    "tags": []
   },
   "source": [
    "Try adding another line of code in the cell above and re-running it. \n",
    "\n",
    "Now let's get a little fancier:  Add a new code cell by clicking on an existing code cell, hitting the escape key, and then hitting the `a` or `b` key.  The `a` key will add a cell above the current cell, and `b` adds a cell below.\n",
    "\n",
    "Great! Now you know how to use Notebooks.\n",
    "\n",
    "Each hands-on exercise starts by setting up our feedback and code checking mechanism. Run the code cell below to do that. Then you'll be ready to move on to question 0."
   ]
  },
  {
   "cell_type": "code",
   "execution_count": 2,
   "id": "ecac1856",
   "metadata": {
    "_kg_hide-input": true,
    "_kg_hide-output": true,
    "execution": {
     "iopub.execute_input": "2022-03-13T03:05:13.382329Z",
     "iopub.status.busy": "2022-03-13T03:05:13.381372Z",
     "iopub.status.idle": "2022-03-13T03:05:13.416127Z",
     "shell.execute_reply": "2022-03-13T03:05:13.416835Z",
     "shell.execute_reply.started": "2022-03-13T02:09:23.726852Z"
    },
    "papermill": {
     "duration": 0.066053,
     "end_time": "2022-03-13T03:05:13.417046",
     "exception": false,
     "start_time": "2022-03-13T03:05:13.350993",
     "status": "completed"
    },
    "tags": []
   },
   "outputs": [
    {
     "name": "stdout",
     "output_type": "stream",
     "text": [
      "Setup complete! You're ready to start question 0.\n"
     ]
    }
   ],
   "source": [
    "from learntools.core import binder; binder.bind(globals())\n",
    "from learntools.python.ex1 import *\n",
    "print(\"Setup complete! You're ready to start question 0.\")"
   ]
  },
  {
   "cell_type": "markdown",
   "id": "7f405308",
   "metadata": {
    "papermill": {
     "duration": 0.026457,
     "end_time": "2022-03-13T03:05:13.471127",
     "exception": false,
     "start_time": "2022-03-13T03:05:13.444670",
     "status": "completed"
    },
    "tags": []
   },
   "source": [
    "# 0.\n",
    "\n",
    "*This is a silly question intended as an introduction to the format we use for hands-on exercises throughout all Kaggle courses.*\n",
    "\n",
    "**What is your favorite color? **\n",
    "\n",
    "To complete this question, create a variable called `color` in the cell below with an appropriate value. The function call `q0.check()` (which we've already provided in the cell below) will check your answer."
   ]
  },
  {
   "cell_type": "code",
   "execution_count": 3,
   "id": "fb05129f",
   "metadata": {
    "execution": {
     "iopub.execute_input": "2022-03-13T03:05:13.528378Z",
     "iopub.status.busy": "2022-03-13T03:05:13.527485Z",
     "iopub.status.idle": "2022-03-13T03:05:13.537323Z",
     "shell.execute_reply": "2022-03-13T03:05:13.537897Z",
     "shell.execute_reply.started": "2022-03-13T02:22:44.553184Z"
    },
    "papermill": {
     "duration": 0.040203,
     "end_time": "2022-03-13T03:05:13.538046",
     "exception": false,
     "start_time": "2022-03-13T03:05:13.497843",
     "status": "completed"
    },
    "tags": []
   },
   "outputs": [
    {
     "data": {
      "application/javascript": [
       "parent.postMessage({\"jupyterEvent\": \"custom.exercise_interaction\", \"data\": {\"outcomeType\": 1, \"valueTowardsCompletion\": 0.25, \"interactionType\": 1, \"questionType\": 2, \"questionId\": \"0_ExerciseFormatTutorial\", \"learnToolsVersion\": \"0.3.4\", \"failureMessage\": \"\", \"exceptionClass\": \"\", \"trace\": \"\"}}, \"*\")"
      ],
      "text/plain": [
       "<IPython.core.display.Javascript object>"
      ]
     },
     "metadata": {},
     "output_type": "display_data"
    },
    {
     "data": {
      "text/markdown": [
       "<span style=\"color:#33cc33\">Correct:</span> What?! You got it right without needing a hint or anything? Drats. Well hey, you should still continue to the next step to get some practice asking for a hint and checking solutions. (Even though you obviously don't need any help here.)"
      ],
      "text/plain": [
       "Correct: What?! You got it right without needing a hint or anything? Drats. Well hey, you should still continue to the next step to get some practice asking for a hint and checking solutions. (Even though you obviously don't need any help here.)"
      ]
     },
     "metadata": {},
     "output_type": "display_data"
    }
   ],
   "source": [
    "# create a variable called color with an appropriate value on the line below\n",
    "# (Remember, strings in Python must be enclosed in 'single' or \"double\" quotes)\n",
    "____\n",
    "color = 'Blue'\n",
    "\n",
    "# Check your answer\n",
    "q0.check()"
   ]
  },
  {
   "cell_type": "markdown",
   "id": "966721fe",
   "metadata": {
    "papermill": {
     "duration": 0.027032,
     "end_time": "2022-03-13T03:05:13.592855",
     "exception": false,
     "start_time": "2022-03-13T03:05:13.565823",
     "status": "completed"
    },
    "tags": []
   },
   "source": [
    "Didn't get the right answer? How do you not even know your own favorite color?!\n",
    "\n",
    "Delete the `#` in the line below to make one of the lines run. You can choose between getting a hint or the full answer by choosing which line to remove the `#` from. \n",
    "\n",
    "Removing the `#` is called uncommenting, because it changes that line from a \"comment\" which Python doesn't run to code, which Python does run."
   ]
  },
  {
   "cell_type": "code",
   "execution_count": 4,
   "id": "1b5d3adc",
   "metadata": {
    "execution": {
     "iopub.execute_input": "2022-03-13T03:05:13.652895Z",
     "iopub.status.busy": "2022-03-13T03:05:13.651974Z",
     "iopub.status.idle": "2022-03-13T03:05:13.662376Z",
     "shell.execute_reply": "2022-03-13T03:05:13.662934Z",
     "shell.execute_reply.started": "2022-03-13T02:22:51.628496Z"
    },
    "papermill": {
     "duration": 0.042509,
     "end_time": "2022-03-13T03:05:13.663079",
     "exception": false,
     "start_time": "2022-03-13T03:05:13.620570",
     "status": "completed"
    },
    "tags": []
   },
   "outputs": [
    {
     "data": {
      "application/javascript": [
       "parent.postMessage({\"jupyterEvent\": \"custom.exercise_interaction\", \"data\": {\"interactionType\": 2, \"questionType\": 2, \"questionId\": \"0_ExerciseFormatTutorial\", \"learnToolsVersion\": \"0.3.4\", \"valueTowardsCompletion\": 0.0, \"failureMessage\": \"\", \"exceptionClass\": \"\", \"trace\": \"\", \"outcomeType\": 4}}, \"*\")"
      ],
      "text/plain": [
       "<IPython.core.display.Javascript object>"
      ]
     },
     "metadata": {},
     "output_type": "display_data"
    },
    {
     "data": {
      "text/markdown": [
       "<span style=\"color:#3366cc\">Hint:</span> Your favorite color rhymes with *glue*."
      ],
      "text/plain": [
       "Hint: Your favorite color rhymes with *glue*."
      ]
     },
     "metadata": {},
     "output_type": "display_data"
    },
    {
     "data": {
      "application/javascript": [
       "parent.postMessage({\"jupyterEvent\": \"custom.exercise_interaction\", \"data\": {\"interactionType\": 3, \"questionType\": 2, \"questionId\": \"0_ExerciseFormatTutorial\", \"learnToolsVersion\": \"0.3.4\", \"valueTowardsCompletion\": 0.0, \"failureMessage\": \"\", \"exceptionClass\": \"\", \"trace\": \"\", \"outcomeType\": 4}}, \"*\")"
      ],
      "text/plain": [
       "<IPython.core.display.Javascript object>"
      ]
     },
     "metadata": {},
     "output_type": "display_data"
    },
    {
     "data": {
      "text/markdown": [
       "<span style=\"color:#33cc99\">Solution:</span> \n",
       "```python\n",
       "color = \"blue\"\n",
       "```"
      ],
      "text/plain": [
       "Solution: \n",
       "```python\n",
       "color = \"blue\"\n",
       "```"
      ]
     },
     "metadata": {},
     "output_type": "display_data"
    }
   ],
   "source": [
    "q0.hint()\n",
    "q0.solution()"
   ]
  },
  {
   "cell_type": "markdown",
   "id": "b1eb9e35",
   "metadata": {
    "papermill": {
     "duration": 0.029942,
     "end_time": "2022-03-13T03:05:13.723976",
     "exception": false,
     "start_time": "2022-03-13T03:05:13.694034",
     "status": "completed"
    },
    "tags": []
   },
   "source": [
    "The upcoming questions work the same way. The only thing that will change are the question numbers. For the next question, you'll call `q1.check()`, `q1.hint()`, `q1.solution()`, for question 2, you'll call `q2.check()`, and so on."
   ]
  },
  {
   "cell_type": "markdown",
   "id": "abdfe042",
   "metadata": {
    "papermill": {
     "duration": 0.038562,
     "end_time": "2022-03-13T03:05:13.797689",
     "exception": false,
     "start_time": "2022-03-13T03:05:13.759127",
     "status": "completed"
    },
    "tags": []
   },
   "source": [
    "<hr/>\n",
    "\n",
    "# 1.\n",
    "\n",
    "Complete the code below. In case it's helpful, here is the table of available arithmetic operations:\n",
    "\n",
    "\n",
    "\n",
    "| Operator     | Name           | Description                                            |\n",
    "|--------------|----------------|--------------------------------------------------------|\n",
    "| ``a + b``    | Addition       | Sum of ``a`` and ``b``                                 |\n",
    "| ``a - b``    | Subtraction    | Difference of ``a`` and ``b``                          |\n",
    "| ``a * b``    | Multiplication | Product of ``a`` and ``b``                             |\n",
    "| ``a / b``    | True division  | Quotient of ``a`` and ``b``                            |\n",
    "| ``a // b``   | Floor division | Quotient of ``a`` and ``b``, removing fractional parts |\n",
    "| ``a % b``    | Modulus        | Integer remainder after division of ``a`` by ``b``     |\n",
    "| ``a ** b``   | Exponentiation | ``a`` raised to the power of ``b``                     |\n",
    "| ``-a``       | Negation       | The negative of ``a``                                  |\n",
    "\n",
    "<span style=\"display:none\"></span>\n"
   ]
  },
  {
   "cell_type": "code",
   "execution_count": 5,
   "id": "59c4af34",
   "metadata": {
    "execution": {
     "iopub.execute_input": "2022-03-13T03:05:13.877404Z",
     "iopub.status.busy": "2022-03-13T03:05:13.876447Z",
     "iopub.status.idle": "2022-03-13T03:05:13.881555Z",
     "shell.execute_reply": "2022-03-13T03:05:13.881028Z",
     "shell.execute_reply.started": "2022-03-13T02:25:04.519852Z"
    },
    "papermill": {
     "duration": 0.046021,
     "end_time": "2022-03-13T03:05:13.881691",
     "exception": false,
     "start_time": "2022-03-13T03:05:13.835670",
     "status": "completed"
    },
    "tags": []
   },
   "outputs": [
    {
     "data": {
      "application/javascript": [
       "parent.postMessage({\"jupyterEvent\": \"custom.exercise_interaction\", \"data\": {\"outcomeType\": 1, \"valueTowardsCompletion\": 0.25, \"interactionType\": 1, \"questionType\": 1, \"questionId\": \"1_CircleArea\", \"learnToolsVersion\": \"0.3.4\", \"failureMessage\": \"\", \"exceptionClass\": \"\", \"trace\": \"\"}}, \"*\")"
      ],
      "text/plain": [
       "<IPython.core.display.Javascript object>"
      ]
     },
     "metadata": {},
     "output_type": "display_data"
    },
    {
     "data": {
      "text/markdown": [
       "<span style=\"color:#33cc33\">Correct</span>"
      ],
      "text/plain": [
       "Correct"
      ]
     },
     "metadata": {},
     "output_type": "display_data"
    }
   ],
   "source": [
    "pi = 3.14159 # approximate\n",
    "diameter = 3\n",
    "\n",
    "# Create a variable called 'radius' equal to half the diameter\n",
    "\n",
    "radius = 1.5\n",
    "\n",
    "# Create a variable called 'area', using the formula for the area of a circle: pi times the radius squared\n",
    "area = pi * radius ** 2\n",
    "\n",
    "# Check your answer\n",
    "q1.check()"
   ]
  },
  {
   "cell_type": "code",
   "execution_count": 6,
   "id": "0dd37ca7",
   "metadata": {
    "execution": {
     "iopub.execute_input": "2022-03-13T03:05:13.948402Z",
     "iopub.status.busy": "2022-03-13T03:05:13.947484Z",
     "iopub.status.idle": "2022-03-13T03:05:13.950563Z",
     "shell.execute_reply": "2022-03-13T03:05:13.951123Z"
    },
    "papermill": {
     "duration": 0.037666,
     "end_time": "2022-03-13T03:05:13.951274",
     "exception": false,
     "start_time": "2022-03-13T03:05:13.913608",
     "status": "completed"
    },
    "tags": []
   },
   "outputs": [],
   "source": [
    "# Uncomment and run the lines below if you need help.\n",
    "#q1.hint()\n",
    "#q1.solution()"
   ]
  },
  {
   "cell_type": "markdown",
   "id": "87001a09",
   "metadata": {
    "papermill": {
     "duration": 0.031273,
     "end_time": "2022-03-13T03:05:14.014389",
     "exception": false,
     "start_time": "2022-03-13T03:05:13.983116",
     "status": "completed"
    },
    "tags": []
   },
   "source": [
    "<hr/>\n",
    "\n",
    "# 2.\n",
    "\n",
    "Add code to the following cell to swap variables `a` and `b` (so that `a` refers to the object previously referred to by `b` and vice versa)."
   ]
  },
  {
   "cell_type": "code",
   "execution_count": 7,
   "id": "9e5cce60",
   "metadata": {
    "execution": {
     "iopub.execute_input": "2022-03-13T03:05:14.080970Z",
     "iopub.status.busy": "2022-03-13T03:05:14.080043Z",
     "iopub.status.idle": "2022-03-13T03:05:14.088662Z",
     "shell.execute_reply": "2022-03-13T03:05:14.089170Z",
     "shell.execute_reply.started": "2022-03-13T02:51:04.836002Z"
    },
    "papermill": {
     "duration": 0.043314,
     "end_time": "2022-03-13T03:05:14.089325",
     "exception": false,
     "start_time": "2022-03-13T03:05:14.046011",
     "status": "completed"
    },
    "tags": []
   },
   "outputs": [
    {
     "data": {
      "application/javascript": [
       "parent.postMessage({\"jupyterEvent\": \"custom.exercise_interaction\", \"data\": {\"outcomeType\": 1, \"valueTowardsCompletion\": 0.25, \"interactionType\": 1, \"questionType\": 2, \"questionId\": \"2_VariableSwap\", \"learnToolsVersion\": \"0.3.4\", \"failureMessage\": \"\", \"exceptionClass\": \"\", \"trace\": \"\"}}, \"*\")"
      ],
      "text/plain": [
       "<IPython.core.display.Javascript object>"
      ]
     },
     "metadata": {},
     "output_type": "display_data"
    },
    {
     "data": {
      "text/markdown": [
       "<span style=\"color:#33cc33\">Correct:</span> \n",
       "\n",
       "The most straightforward solution is to use a third variable to temporarily store one of the old values. e.g.:\n",
       "\n",
       "    tmp = a\n",
       "    a = b\n",
       "    b = tmp\n",
       "\n",
       "If you've read lots of Python code, you might have seen the following trick to swap two variables in one line:\n",
       "\n",
       "    a, b = b, a\n",
       "\n",
       "We'll demystify this bit of Python magic later when we talk about *tuples*."
      ],
      "text/plain": [
       "Correct: \n",
       "\n",
       "The most straightforward solution is to use a third variable to temporarily store one of the old values. e.g.:\n",
       "\n",
       "    tmp = a\n",
       "    a = b\n",
       "    b = tmp\n",
       "\n",
       "If you've read lots of Python code, you might have seen the following trick to swap two variables in one line:\n",
       "\n",
       "    a, b = b, a\n",
       "\n",
       "We'll demystify this bit of Python magic later when we talk about *tuples*."
      ]
     },
     "metadata": {},
     "output_type": "display_data"
    }
   ],
   "source": [
    "########### Setup code - don't touch this part ######################\n",
    "# If you're curious, these are examples of lists. We'll talk about \n",
    "# them in depth a few lessons from now. For now, just know that they're\n",
    "# yet another type of Python object, like int or float.\n",
    "a = [1, 2, 3]\n",
    "b = [3, 2, 1]\n",
    "q2.store_original_ids()\n",
    "######################################################################\n",
    "\n",
    "# Your code goes here. Swap the values to which a and b refer.\n",
    "# If you get stuck, you can always uncomment one or both of the lines in\n",
    "# the next cell for a hint, or to peek at the solution.\n",
    "\n",
    "tmp = a \n",
    "a = b\n",
    "b = tmp\n",
    "\n",
    "# Check your answer\n",
    "q2.check()"
   ]
  },
  {
   "cell_type": "code",
   "execution_count": 8,
   "id": "bcde78ac",
   "metadata": {
    "execution": {
     "iopub.execute_input": "2022-03-13T03:05:14.159802Z",
     "iopub.status.busy": "2022-03-13T03:05:14.157687Z",
     "iopub.status.idle": "2022-03-13T03:05:14.163993Z",
     "shell.execute_reply": "2022-03-13T03:05:14.164480Z",
     "shell.execute_reply.started": "2022-03-13T02:48:27.455767Z"
    },
    "papermill": {
     "duration": 0.042596,
     "end_time": "2022-03-13T03:05:14.164640",
     "exception": false,
     "start_time": "2022-03-13T03:05:14.122044",
     "status": "completed"
    },
    "tags": []
   },
   "outputs": [
    {
     "data": {
      "application/javascript": [
       "parent.postMessage({\"jupyterEvent\": \"custom.exercise_interaction\", \"data\": {\"interactionType\": 2, \"questionType\": 2, \"questionId\": \"2_VariableSwap\", \"learnToolsVersion\": \"0.3.4\", \"valueTowardsCompletion\": 0.0, \"failureMessage\": \"\", \"exceptionClass\": \"\", \"trace\": \"\", \"outcomeType\": 4}}, \"*\")"
      ],
      "text/plain": [
       "<IPython.core.display.Javascript object>"
      ]
     },
     "metadata": {},
     "output_type": "display_data"
    },
    {
     "data": {
      "text/markdown": [
       "<span style=\"color:#3366cc\">Hint:</span> Try using a third variable."
      ],
      "text/plain": [
       "Hint: Try using a third variable."
      ]
     },
     "metadata": {},
     "output_type": "display_data"
    }
   ],
   "source": [
    "q2.hint()"
   ]
  },
  {
   "cell_type": "code",
   "execution_count": 9,
   "id": "f13c238f",
   "metadata": {
    "execution": {
     "iopub.execute_input": "2022-03-13T03:05:14.237475Z",
     "iopub.status.busy": "2022-03-13T03:05:14.236899Z",
     "iopub.status.idle": "2022-03-13T03:05:14.241255Z",
     "shell.execute_reply": "2022-03-13T03:05:14.241870Z",
     "shell.execute_reply.started": "2022-03-13T02:49:58.347554Z"
    },
    "papermill": {
     "duration": 0.043159,
     "end_time": "2022-03-13T03:05:14.242030",
     "exception": false,
     "start_time": "2022-03-13T03:05:14.198871",
     "status": "completed"
    },
    "tags": []
   },
   "outputs": [
    {
     "data": {
      "application/javascript": [
       "parent.postMessage({\"jupyterEvent\": \"custom.exercise_interaction\", \"data\": {\"interactionType\": 3, \"questionType\": 2, \"questionId\": \"2_VariableSwap\", \"learnToolsVersion\": \"0.3.4\", \"valueTowardsCompletion\": 0.0, \"failureMessage\": \"\", \"exceptionClass\": \"\", \"trace\": \"\", \"outcomeType\": 4}}, \"*\")"
      ],
      "text/plain": [
       "<IPython.core.display.Javascript object>"
      ]
     },
     "metadata": {},
     "output_type": "display_data"
    },
    {
     "data": {
      "text/markdown": [
       "<span style=\"color:#33cc99\">Solution:</span> The most straightforward solution is to use a third variable to temporarily store one of the old values. e.g.:\n",
       "\n",
       "    tmp = a\n",
       "    a = b\n",
       "    b = tmp\n",
       "\n",
       "If you've read lots of Python code, you might have seen the following trick to swap two variables in one line:\n",
       "\n",
       "    a, b = b, a\n",
       "\n",
       "We'll demystify this bit of Python magic later when we talk about *tuples*."
      ],
      "text/plain": [
       "Solution: The most straightforward solution is to use a third variable to temporarily store one of the old values. e.g.:\n",
       "\n",
       "    tmp = a\n",
       "    a = b\n",
       "    b = tmp\n",
       "\n",
       "If you've read lots of Python code, you might have seen the following trick to swap two variables in one line:\n",
       "\n",
       "    a, b = b, a\n",
       "\n",
       "We'll demystify this bit of Python magic later when we talk about *tuples*."
      ]
     },
     "metadata": {},
     "output_type": "display_data"
    }
   ],
   "source": [
    "q2.solution()"
   ]
  },
  {
   "cell_type": "markdown",
   "id": "a7803968",
   "metadata": {
    "papermill": {
     "duration": 0.035284,
     "end_time": "2022-03-13T03:05:14.312733",
     "exception": false,
     "start_time": "2022-03-13T03:05:14.277449",
     "status": "completed"
    },
    "tags": []
   },
   "source": [
    "<hr/>\n",
    "\n",
    "# 3a.\n",
    "\n",
    "Add parentheses to the following expression so that it evaluates to 1."
   ]
  },
  {
   "cell_type": "code",
   "execution_count": 10,
   "id": "e0a36f95",
   "metadata": {
    "execution": {
     "iopub.execute_input": "2022-03-13T03:05:14.386365Z",
     "iopub.status.busy": "2022-03-13T03:05:14.385796Z",
     "iopub.status.idle": "2022-03-13T03:05:14.390090Z",
     "shell.execute_reply": "2022-03-13T03:05:14.390646Z",
     "shell.execute_reply.started": "2022-03-13T02:55:39.134710Z"
    },
    "papermill": {
     "duration": 0.042471,
     "end_time": "2022-03-13T03:05:14.390808",
     "exception": false,
     "start_time": "2022-03-13T03:05:14.348337",
     "status": "completed"
    },
    "tags": []
   },
   "outputs": [
    {
     "data": {
      "text/plain": [
       "1"
      ]
     },
     "execution_count": 10,
     "metadata": {},
     "output_type": "execute_result"
    }
   ],
   "source": [
    "(5 - 3) // 2"
   ]
  },
  {
   "cell_type": "code",
   "execution_count": 11,
   "id": "1b0966bc",
   "metadata": {
    "execution": {
     "iopub.execute_input": "2022-03-13T03:05:14.465455Z",
     "iopub.status.busy": "2022-03-13T03:05:14.464876Z",
     "iopub.status.idle": "2022-03-13T03:05:14.470179Z",
     "shell.execute_reply": "2022-03-13T03:05:14.470740Z",
     "shell.execute_reply.started": "2022-03-13T02:54:17.703411Z"
    },
    "papermill": {
     "duration": 0.043994,
     "end_time": "2022-03-13T03:05:14.470909",
     "exception": false,
     "start_time": "2022-03-13T03:05:14.426915",
     "status": "completed"
    },
    "tags": []
   },
   "outputs": [
    {
     "data": {
      "application/javascript": [
       "parent.postMessage({\"jupyterEvent\": \"custom.exercise_interaction\", \"data\": {\"interactionType\": 2, \"questionType\": 4, \"questionId\": \"3.1_ArithmeticParensEasy\", \"learnToolsVersion\": \"0.3.4\", \"valueTowardsCompletion\": 0.0, \"failureMessage\": \"\", \"exceptionClass\": \"\", \"trace\": \"\", \"outcomeType\": 4}}, \"*\")"
      ],
      "text/plain": [
       "<IPython.core.display.Javascript object>"
      ]
     },
     "metadata": {},
     "output_type": "display_data"
    },
    {
     "data": {
      "text/markdown": [
       "<span style=\"color:#3366cc\">Hint:</span> Following its default \"BEDMAS\"-like rules for order of operations, Python will first divide 3 by 2, then subtract the result from 5. You need to add parentheses to force it to perform the subtraction first."
      ],
      "text/plain": [
       "Hint: Following its default \"BEDMAS\"-like rules for order of operations, Python will first divide 3 by 2, then subtract the result from 5. You need to add parentheses to force it to perform the subtraction first."
      ]
     },
     "metadata": {},
     "output_type": "display_data"
    }
   ],
   "source": [
    "q3.a.hint()"
   ]
  },
  {
   "cell_type": "code",
   "execution_count": 12,
   "id": "d4fcdf34",
   "metadata": {
    "execution": {
     "iopub.execute_input": "2022-03-13T03:05:14.547945Z",
     "iopub.status.busy": "2022-03-13T03:05:14.547336Z",
     "iopub.status.idle": "2022-03-13T03:05:14.552944Z",
     "shell.execute_reply": "2022-03-13T03:05:14.553477Z",
     "shell.execute_reply.started": "2022-03-13T02:54:56.281165Z"
    },
    "papermill": {
     "duration": 0.045109,
     "end_time": "2022-03-13T03:05:14.553632",
     "exception": false,
     "start_time": "2022-03-13T03:05:14.508523",
     "status": "completed"
    },
    "tags": []
   },
   "outputs": [
    {
     "data": {
      "application/javascript": [
       "parent.postMessage({\"jupyterEvent\": \"custom.exercise_interaction\", \"data\": {\"interactionType\": 3, \"questionType\": 4, \"questionId\": \"3.1_ArithmeticParensEasy\", \"learnToolsVersion\": \"0.3.4\", \"valueTowardsCompletion\": 0.0, \"failureMessage\": \"\", \"exceptionClass\": \"\", \"trace\": \"\", \"outcomeType\": 4}}, \"*\")"
      ],
      "text/plain": [
       "<IPython.core.display.Javascript object>"
      ]
     },
     "metadata": {},
     "output_type": "display_data"
    },
    {
     "data": {
      "text/markdown": [
       "<span style=\"color:#33cc99\">Solution:</span> \n",
       "```python\n",
       "(5 - 3) // 2\n",
       "```"
      ],
      "text/plain": [
       "Solution: \n",
       "```python\n",
       "(5 - 3) // 2\n",
       "```"
      ]
     },
     "metadata": {},
     "output_type": "display_data"
    }
   ],
   "source": [
    "#Check your answer (Run this code cell to receive credit!)\n",
    "q3.a.solution()"
   ]
  },
  {
   "cell_type": "markdown",
   "id": "da15d9bd",
   "metadata": {
    "papermill": {
     "duration": 0.037391,
     "end_time": "2022-03-13T03:05:14.629058",
     "exception": false,
     "start_time": "2022-03-13T03:05:14.591667",
     "status": "completed"
    },
    "tags": []
   },
   "source": [
    "# 3b.  <span title=\"A bit spicy\" style=\"color: darkgreen \">🌶️</span>\n",
    "\n",
    "<small>Questions, like this one, marked a spicy pepper are a bit harder.</small>\n",
    "\n",
    "Add parentheses to the following expression so that it evaluates to 0."
   ]
  },
  {
   "cell_type": "code",
   "execution_count": 13,
   "id": "ca737236",
   "metadata": {
    "execution": {
     "iopub.execute_input": "2022-03-13T03:05:14.707599Z",
     "iopub.status.busy": "2022-03-13T03:05:14.707019Z",
     "iopub.status.idle": "2022-03-13T03:05:14.711986Z",
     "shell.execute_reply": "2022-03-13T03:05:14.712524Z",
     "shell.execute_reply.started": "2022-03-13T02:56:33.534457Z"
    },
    "papermill": {
     "duration": 0.046001,
     "end_time": "2022-03-13T03:05:14.712683",
     "exception": false,
     "start_time": "2022-03-13T03:05:14.666682",
     "status": "completed"
    },
    "tags": []
   },
   "outputs": [
    {
     "data": {
      "text/plain": [
       "0"
      ]
     },
     "execution_count": 13,
     "metadata": {},
     "output_type": "execute_result"
    }
   ],
   "source": [
    "(8 - 3) * (2 - (1 + 1))"
   ]
  },
  {
   "cell_type": "code",
   "execution_count": 14,
   "id": "5055742f",
   "metadata": {
    "execution": {
     "iopub.execute_input": "2022-03-13T03:05:14.792912Z",
     "iopub.status.busy": "2022-03-13T03:05:14.792282Z",
     "iopub.status.idle": "2022-03-13T03:05:14.795256Z",
     "shell.execute_reply": "2022-03-13T03:05:14.795774Z"
    },
    "papermill": {
     "duration": 0.044228,
     "end_time": "2022-03-13T03:05:14.795922",
     "exception": false,
     "start_time": "2022-03-13T03:05:14.751694",
     "status": "completed"
    },
    "tags": []
   },
   "outputs": [],
   "source": [
    "#q3.b.hint()"
   ]
  },
  {
   "cell_type": "code",
   "execution_count": 15,
   "id": "4653655f",
   "metadata": {
    "execution": {
     "iopub.execute_input": "2022-03-13T03:05:14.875487Z",
     "iopub.status.busy": "2022-03-13T03:05:14.874898Z",
     "iopub.status.idle": "2022-03-13T03:05:14.880635Z",
     "shell.execute_reply": "2022-03-13T03:05:14.881197Z",
     "shell.execute_reply.started": "2022-03-13T02:56:12.246414Z"
    },
    "papermill": {
     "duration": 0.046842,
     "end_time": "2022-03-13T03:05:14.881350",
     "exception": false,
     "start_time": "2022-03-13T03:05:14.834508",
     "status": "completed"
    },
    "tags": []
   },
   "outputs": [
    {
     "data": {
      "application/javascript": [
       "parent.postMessage({\"jupyterEvent\": \"custom.exercise_interaction\", \"data\": {\"interactionType\": 3, \"questionType\": 4, \"questionId\": \"3.2_ArithmeticParensHard\", \"learnToolsVersion\": \"0.3.4\", \"valueTowardsCompletion\": 0.0, \"failureMessage\": \"\", \"exceptionClass\": \"\", \"trace\": \"\", \"outcomeType\": 4}}, \"*\")"
      ],
      "text/plain": [
       "<IPython.core.display.Javascript object>"
      ]
     },
     "metadata": {},
     "output_type": "display_data"
    },
    {
     "data": {
      "text/markdown": [
       "<span style=\"color:#33cc99\">Solution:</span> `(8 - 3) * (2 - (1 + 1))` is one solution. There may be others."
      ],
      "text/plain": [
       "Solution: `(8 - 3) * (2 - (1 + 1))` is one solution. There may be others."
      ]
     },
     "metadata": {},
     "output_type": "display_data"
    }
   ],
   "source": [
    "# Check your answer (Run this code cell to receive credit!)\n",
    "q3.b.solution()"
   ]
  },
  {
   "cell_type": "markdown",
   "id": "5cb3abf8",
   "metadata": {
    "papermill": {
     "duration": 0.039968,
     "end_time": "2022-03-13T03:05:14.961047",
     "exception": false,
     "start_time": "2022-03-13T03:05:14.921079",
     "status": "completed"
    },
    "tags": []
   },
   "source": [
    "<hr/>\n",
    "\n",
    "# 4. \n",
    "Alice, Bob and Carol have agreed to pool their Halloween candy and split it evenly among themselves.\n",
    "For the sake of their friendship, any candies left over will be smashed. For example, if they collectively\n",
    "bring home 91 candies, they'll take 30 each and smash 1.\n",
    "\n",
    "Write an arithmetic expression below to calculate how many candies they must smash for a given haul."
   ]
  },
  {
   "cell_type": "code",
   "execution_count": 16,
   "id": "01ddbfb8",
   "metadata": {
    "execution": {
     "iopub.execute_input": "2022-03-13T03:05:15.043793Z",
     "iopub.status.busy": "2022-03-13T03:05:15.043211Z",
     "iopub.status.idle": "2022-03-13T03:05:15.049868Z",
     "shell.execute_reply": "2022-03-13T03:05:15.050435Z",
     "shell.execute_reply.started": "2022-03-13T03:03:00.193967Z"
    },
    "papermill": {
     "duration": 0.049507,
     "end_time": "2022-03-13T03:05:15.050585",
     "exception": false,
     "start_time": "2022-03-13T03:05:15.001078",
     "status": "completed"
    },
    "tags": []
   },
   "outputs": [
    {
     "data": {
      "application/javascript": [
       "parent.postMessage({\"jupyterEvent\": \"custom.exercise_interaction\", \"data\": {\"outcomeType\": 1, \"valueTowardsCompletion\": 0.25, \"interactionType\": 1, \"questionType\": 1, \"questionId\": \"4_CandySplitting\", \"learnToolsVersion\": \"0.3.4\", \"failureMessage\": \"\", \"exceptionClass\": \"\", \"trace\": \"\"}}, \"*\")"
      ],
      "text/plain": [
       "<IPython.core.display.Javascript object>"
      ]
     },
     "metadata": {},
     "output_type": "display_data"
    },
    {
     "data": {
      "text/markdown": [
       "<span style=\"color:#33cc33\">Correct</span>"
      ],
      "text/plain": [
       "Correct"
      ]
     },
     "metadata": {},
     "output_type": "display_data"
    }
   ],
   "source": [
    "# Variables representing the number of candies collected by alice, bob, and carol\n",
    "alice_candies = 121\n",
    "bob_candies = 77\n",
    "carol_candies = 109\n",
    "\n",
    "# Your code goes here! Replace the right-hand side of this assignment with an expression\n",
    "# involving alice_candies, bob_candies, and carol_candies\n",
    "to_smash = (alice_candies + bob_candies + carol_candies) % 3\n",
    "\n",
    "# Check your answer\n",
    "q4.check()"
   ]
  },
  {
   "cell_type": "code",
   "execution_count": 17,
   "id": "cb57478b",
   "metadata": {
    "execution": {
     "iopub.execute_input": "2022-03-13T03:05:15.138775Z",
     "iopub.status.busy": "2022-03-13T03:05:15.137818Z",
     "iopub.status.idle": "2022-03-13T03:05:15.143416Z",
     "shell.execute_reply": "2022-03-13T03:05:15.142946Z",
     "shell.execute_reply.started": "2022-03-13T03:01:16.778649Z"
    },
    "papermill": {
     "duration": 0.051706,
     "end_time": "2022-03-13T03:05:15.143573",
     "exception": false,
     "start_time": "2022-03-13T03:05:15.091867",
     "status": "completed"
    },
    "tags": []
   },
   "outputs": [
    {
     "data": {
      "application/javascript": [
       "parent.postMessage({\"jupyterEvent\": \"custom.exercise_interaction\", \"data\": {\"interactionType\": 3, \"questionType\": 1, \"questionId\": \"4_CandySplitting\", \"learnToolsVersion\": \"0.3.4\", \"valueTowardsCompletion\": 0.0, \"failureMessage\": \"\", \"exceptionClass\": \"\", \"trace\": \"\", \"outcomeType\": 4}}, \"*\")"
      ],
      "text/plain": [
       "<IPython.core.display.Javascript object>"
      ]
     },
     "metadata": {},
     "output_type": "display_data"
    },
    {
     "data": {
      "text/markdown": [
       "<span style=\"color:#33cc99\">Solution:</span> \n",
       "```python\n",
       "(alice_candies + bob_candies + carol_candies) % 3\n",
       "```"
      ],
      "text/plain": [
       "Solution: \n",
       "```python\n",
       "(alice_candies + bob_candies + carol_candies) % 3\n",
       "```"
      ]
     },
     "metadata": {},
     "output_type": "display_data"
    }
   ],
   "source": [
    "#q4.hint()\n",
    "q4.solution()"
   ]
  },
  {
   "cell_type": "markdown",
   "id": "89af824b",
   "metadata": {
    "papermill": {
     "duration": 0.042491,
     "end_time": "2022-03-13T03:05:15.227775",
     "exception": false,
     "start_time": "2022-03-13T03:05:15.185284",
     "status": "completed"
    },
    "tags": []
   },
   "source": [
    "# Keep Going\n",
    "\n",
    "Next up, you'll **[learn to write new functions and understand functions others write](https://www.kaggle.com/colinmorris/functions-and-getting-help)**. This will make you at least 10 times more productive as a Python programmer. "
   ]
  },
  {
   "cell_type": "markdown",
   "id": "cb7b1b74",
   "metadata": {
    "papermill": {
     "duration": 0.041323,
     "end_time": "2022-03-13T03:05:15.311499",
     "exception": false,
     "start_time": "2022-03-13T03:05:15.270176",
     "status": "completed"
    },
    "tags": []
   },
   "source": [
    "---\n",
    "\n",
    "\n",
    "\n",
    "\n",
    "*Have questions or comments? Visit the [course discussion forum](https://www.kaggle.com/learn/python/discussion) to chat with other learners.*"
   ]
  }
 ],
 "metadata": {
  "kernelspec": {
   "display_name": "Python 3",
   "language": "python",
   "name": "python3"
  },
  "language_info": {
   "codemirror_mode": {
    "name": "ipython",
    "version": 3
   },
   "file_extension": ".py",
   "mimetype": "text/x-python",
   "name": "python",
   "nbconvert_exporter": "python",
   "pygments_lexer": "ipython3",
   "version": "3.7.12"
  },
  "papermill": {
   "default_parameters": {},
   "duration": 11.880444,
   "end_time": "2022-03-13T03:05:15.861709",
   "environment_variables": {},
   "exception": null,
   "input_path": "__notebook__.ipynb",
   "output_path": "__notebook__.ipynb",
   "parameters": {},
   "start_time": "2022-03-13T03:05:03.981265",
   "version": "2.3.3"
  }
 },
 "nbformat": 4,
 "nbformat_minor": 5
}
